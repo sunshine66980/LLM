# 安装依赖库（Colab中运行）
!pip install python-dotenv requests sentence-transformers faiss-cpu langchain
